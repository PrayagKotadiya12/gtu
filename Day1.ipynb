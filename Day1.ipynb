{
 "cells": [
  {
   "cell_type": "code",
   "execution_count": 23,
   "id": "0bd792e9",
   "metadata": {},
   "outputs": [
    {
     "name": "stdout",
     "output_type": "stream",
     "text": [
      "[[  0. 100.  78. 342.]\n",
      " [  1.  11.  62. 191.]\n",
      " [  2.   8.  85. 252.]\n",
      " [  3.  71.  24. 307.]\n",
      " [  4. 104.  17. 229.]\n",
      " [  5.  18. 104. 246.]\n",
      " [  6.   8.  76. 226.]\n",
      " [  7.  86.  74. 288.]\n",
      " [  8.  12.  60. 216.]\n",
      " [  9.  25.  90. 304.]\n",
      " [ 10.  56.   6. 272.]\n",
      " [ 11.  88.  69. 302.]\n",
      " [ 12. 147.  65. 312.]\n",
      " [ 13. 121. 146. 370.]\n",
      " [ 15.  99. 110. 362.]]\n"
     ]
    }
   ],
   "source": [
    "import numpy as np\n",
    "file = np.loadtxt(\"cric.tsv\",skiprows=1)\n",
    "print(file)"
   ]
  },
  {
   "cell_type": "code",
   "execution_count": 24,
   "id": "0d1e7978",
   "metadata": {},
   "outputs": [
    {
     "data": {
      "text/plain": [
       "105.75"
      ]
     },
     "execution_count": 24,
     "metadata": {},
     "output_type": "execute_result"
    }
   ],
   "source": [
    "np.mean(file)"
   ]
  },
  {
   "cell_type": "code",
   "execution_count": 25,
   "id": "995f0070",
   "metadata": {},
   "outputs": [
    {
     "data": {
      "text/plain": [
       "72.5"
      ]
     },
     "execution_count": 25,
     "metadata": {},
     "output_type": "execute_result"
    }
   ],
   "source": [
    "np.median(file)"
   ]
  },
  {
   "cell_type": "code",
   "execution_count": 34,
   "id": "37aa59a2",
   "metadata": {},
   "outputs": [
    {
     "data": {
      "text/plain": [
       "array([100.,  11.,   8.,  71., 104.,  18.,   8.,  86.,  12.,  25.,  56.,\n",
       "        88., 147., 121.,  99.])"
      ]
     },
     "execution_count": 34,
     "metadata": {},
     "output_type": "execute_result"
    }
   ],
   "source": [
    "Sachin = file[:,1] \n",
    "Sachin"
   ]
  },
  {
   "cell_type": "code",
   "execution_count": 35,
   "id": "98e43bad",
   "metadata": {},
   "outputs": [
    {
     "data": {
      "text/plain": [
       "array([ 78.,  62.,  85.,  24.,  17., 104.,  76.,  74.,  60.,  90.,   6.,\n",
       "        69.,  65., 146., 110.])"
      ]
     },
     "execution_count": 35,
     "metadata": {},
     "output_type": "execute_result"
    }
   ],
   "source": [
    "Dravid = file[:,2]\n",
    "Dravid"
   ]
  },
  {
   "cell_type": "code",
   "execution_count": 36,
   "id": "c2ed4e3f",
   "metadata": {},
   "outputs": [
    {
     "data": {
      "text/plain": [
       "array([342., 191., 252., 307., 229., 246., 226., 288., 216., 304., 272.,\n",
       "       302., 312., 370., 362.])"
      ]
     },
     "execution_count": 36,
     "metadata": {},
     "output_type": "execute_result"
    }
   ],
   "source": [
    "India = file[:,3]\n",
    "India"
   ]
  },
  {
   "cell_type": "code",
   "execution_count": 37,
   "id": "6893e68a",
   "metadata": {},
   "outputs": [],
   "source": [
    "def stats(a):\n",
    "    median = np.median(a)\n",
    "    mean = np.mean(a)\n",
    "    return mean,median"
   ]
  },
  {
   "cell_type": "code",
   "execution_count": 41,
   "id": "cab0a54e",
   "metadata": {},
   "outputs": [
    {
     "name": "stdout",
     "output_type": "stream",
     "text": [
      "Mean runs are 63.6 and Median runs are 71.0\n"
     ]
    }
   ],
   "source": [
    "mean1, median1 = stats(Sachin)\n",
    "print(\"Mean runs are {} and Median runs are {}\".format(mean1,median1))"
   ]
  },
  {
   "cell_type": "code",
   "execution_count": 42,
   "id": "ad49d4ea",
   "metadata": {},
   "outputs": [
    {
     "name": "stdout",
     "output_type": "stream",
     "text": [
      "Mean runs are 71.06666666666666 and Median runs are 74.0\n"
     ]
    }
   ],
   "source": [
    "mean2, median2 = stats(Dravid)\n",
    "print(\"Mean runs are {} and Median runs are {}\".format(mean2,median2))"
   ]
  },
  {
   "cell_type": "code",
   "execution_count": 43,
   "id": "82afc3ee",
   "metadata": {},
   "outputs": [
    {
     "name": "stdout",
     "output_type": "stream",
     "text": [
      "Mean runs are 281.26666666666665 and Median runs are 288.0\n"
     ]
    }
   ],
   "source": [
    "mean3, median3 = stats(India)\n",
    "print(\"Mean runs are {} and Median runs are {}\".format(mean3,median3))"
   ]
  }
 ],
 "metadata": {
  "kernelspec": {
   "display_name": "Python 3 (ipykernel)",
   "language": "python",
   "name": "python3"
  },
  "language_info": {
   "codemirror_mode": {
    "name": "ipython",
    "version": 3
   },
   "file_extension": ".py",
   "mimetype": "text/x-python",
   "name": "python",
   "nbconvert_exporter": "python",
   "pygments_lexer": "ipython3",
   "version": "3.9.13"
  }
 },
 "nbformat": 4,
 "nbformat_minor": 5
}
